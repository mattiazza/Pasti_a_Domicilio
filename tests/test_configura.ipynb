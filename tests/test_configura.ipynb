{
 "cells": [
  {
   "cell_type": "code",
   "execution_count": 16,
   "metadata": {},
   "outputs": [],
   "source": [
    "from pasti_a_domicilio.configura import *\n",
    "\n",
    "from pathlib import Path\n",
    "import pandas as pd\n",
    "import numpy as np"
   ]
  },
  {
   "cell_type": "code",
   "execution_count": 17,
   "metadata": {},
   "outputs": [
    {
     "name": "stdout",
     "output_type": "stream",
     "text": [
      "  Unnamed: 1                  Unnamed: 3                   Unnamed: 5\n",
      "0        NaN  MENU DAL 1 AL 2 MARZO 2022                          NaN\n",
      "2        NaN                  MARTEDI' 1                 MERCOLEDI' 2\n",
      "3        NaN            Fusilli all'olio         Pipe rigate all'olio\n",
      "4        NaN         Fusilli al pomodoro      Pipe rigate al pomodoro\n",
      "5        NaN     Crema di porri e patate  Pipe rigate a oio e sardela\n"
     ]
    }
   ],
   "source": [
    "menu_path = Path(\"/Users/mattiapiazza/Documents/pasti_a_domicilio/examples/menù.xlsx\")\n",
    "\n",
    "my_menu = read_menu(menu_path=menu_path)\n",
    "print(my_menu.head())"
   ]
  },
  {
   "cell_type": "code",
   "execution_count": null,
   "metadata": {},
   "outputs": [],
   "source": []
  }
 ],
 "metadata": {
  "kernelspec": {
   "display_name": ".venv",
   "language": "python",
   "name": "python3"
  },
  "language_info": {
   "codemirror_mode": {
    "name": "ipython",
    "version": 3
   },
   "file_extension": ".py",
   "mimetype": "text/x-python",
   "name": "python",
   "nbconvert_exporter": "python",
   "pygments_lexer": "ipython3",
   "version": "3.12.2"
  }
 },
 "nbformat": 4,
 "nbformat_minor": 2
}
